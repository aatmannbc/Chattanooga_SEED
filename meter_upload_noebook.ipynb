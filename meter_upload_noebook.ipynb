{
 "cells": [
  {
   "cell_type": "code",
   "execution_count": 10,
   "metadata": {},
   "outputs": [],
   "source": [
    "import pandas as pd\n",
    "import csv\n",
    "from pyseed.seed_client import SeedClient\n",
    "from datetime import datetime\n",
    "\n",
    "\n",
    "# Load the CSV file.. Change the file path accordingly\n",
    "file_path = '/Users/aatmannbc/Downloads/combined_meter_seed_export.csv'\n",
    "data = pd.read_csv(file_path)\n",
    "\n"
   ]
  },
  {
   "cell_type": "code",
   "execution_count": null,
   "metadata": {},
   "outputs": [],
   "source": [
    "# Connection parameters\n",
    "connection_params = {\n",
    "    \"name\": \"chattanooga_solar_analysis\",\n",
    "    \"base_url\": \"https://seedv2.lbl.gov\", # Change if needed\n",
    "    \"username\": \"aatmann.bc@bison.howard.edu\", # Change your user name\n",
    "    \"api_key\": \"\",# Add your API Key\n",
    "    \"port\": 443,\n",
    "    \"use_ssl\": True\n",
    "}\n",
    "# Initialize the SEED client using the connection parameters\n",
    "client = SeedClient(\n",
    "    None,\n",
    "    connection_params=connection_params\n",
    ")\n",
    "# Testing if client\n",
    "print(client.get_org_by_name(\"City of Chattanooga\",True))"
   ]
  },
  {
   "cell_type": "code",
   "execution_count": null,
   "metadata": {},
   "outputs": [],
   "source": [
    "# list all properties\n",
    "SeedClient.cycle_id = 574\n",
    "properties = client.get_buildings()\n",
    "# Get property_view_id for property\n",
    "for property in properties:\n",
    "    print(property[\"property_view_id\"])\n"
   ]
  },
  {
   "cell_type": "code",
   "execution_count": null,
   "metadata": {},
   "outputs": [],
   "source": [
    "# To create meter use this function. \n",
    "meter_response = client.get_or_create_meter(\n",
    "            property_view_id=3326380, # Use property_view_id extracted above\n",
    "            meter_type=\"Electric - Solar\", # Has to be one of these models (https://github.com/SEED-platform/seed/blob/d75074fcd64736a7174d8ce39073761b7507e479/seed/models/meters.py#L12)\n",
    "            source=\"Custom Entry\",\n",
    "            source_id=\"1\"  # Convert source_id to string (Source Id can be custom string)\n",
    "        )\n",
    "print(f\"Meter created for property ID {property_view_id}: {meter_response}\")\n",
    "# meter_response = client.get_or_create_meter(3420484,\"Electric - Solar\",\"Manual Entry\",\"1\")  # Convert source_id to string\n",
    "print(f\"Meter created for property ID {property_view_id}: {meter_response}\")"
   ]
  },
  {
   "cell_type": "code",
   "execution_count": null,
   "metadata": {},
   "outputs": [],
   "source": [
    "# Testing meter upload\n",
    "\n",
    "payload = [{'start_time': '2023-01-01', 'end_time': '2023-01-28', 'reading': 286.4804296, 'source_unit': 'kBtu (Thousand BTU)', 'conversion_factor': 3.412}, {'start_time': '2023-02-01', 'end_time': '2023-02-28', 'reading': 351.8289158, 'source_unit': 'kBtu (Thousand BTU)', 'conversion_factor': 3.412}, {'start_time': '2023-03-01', 'end_time': '2023-03-28', 'reading': 325.1337338, 'source_unit': 'kBtu (Thousand BTU)', 'conversion_factor': 3.412}, {'start_time': '2023-04-01', 'end_time': '2023-04-28', 'reading': 263.2518614, 'source_unit': 'kBtu (Thousand BTU)', 'conversion_factor': 3.412}, {'start_time': '2023-05-01', 'end_time': '2023-05-28', 'reading': 289.5912453, 'source_unit': 'kBtu (Thousand BTU)', 'conversion_factor': 3.412}, {'start_time': '2023-06-01', 'end_time': '2023-06-28', 'reading': 355.4335411, 'source_unit': 'kBtu (Thousand BTU)', 'conversion_factor': 3.412}, {'start_time': '2023-07-01', 'end_time': '2023-07-28', 'reading': 391.9486149, 'source_unit': 'kBtu (Thousand BTU)', 'conversion_factor': 3.412}, {'start_time': '2023-08-01', 'end_time': '2023-08-28', 'reading': 405.7504439, 'source_unit': 'kBtu (Thousand BTU)', 'conversion_factor': 3.412}, {'start_time': '2023-09-01', 'end_time': '2023-09-28', 'reading': 355.272047, 'source_unit': 'kBtu (Thousand BTU)', 'conversion_factor': 3.412}, {'start_time': '2023-10-01', 'end_time': '2023-10-28', 'reading': 383.0824222, 'source_unit': 'kBtu (Thousand BTU)', 'conversion_factor': 3.412}, {'start_time': '2023-11-01', 'end_time': '2023-11-28', 'reading': 372.9683316, 'source_unit': 'kBtu (Thousand BTU)', 'conversion_factor': 3.412}, {'start_time': '2023-12-01', 'end_time': '2023-12-28', 'reading': 366.2829981, 'source_unit': 'kBtu (Thousand BTU)', 'conversion_factor': 3.412}]\n",
    "\n",
    "client.upsert_meter_readings_bulk(3420482,17396,payload)"
   ]
  },
  {
   "cell_type": "code",
   "execution_count": null,
   "metadata": {},
   "outputs": [],
   "source": [
    "# Use your own csv path\n",
    "with open(\"/Users/aatmannbc/Downloads/combined_meter_seed_export.csv\", mode='r') as file:\n",
    "        csv_reader = csv.DictReader(file)\n",
    "        \n",
    "        # Iterate over each row in the CSV\n",
    "        for row in csv_reader:\n",
    "            print(\"-----------------------------------------------\")\n",
    "            property_view_id = row['property_unique_id']\n",
    "            meter_id = row['meter_id']\n",
    "\n",
    "            # Create the payload with meter readings for each month\n",
    "            payload = []\n",
    "            for i in range(1, 13):  # Loop through each month's column\n",
    "                start_time = datetime(2023, i, 1).strftime(\"%Y-%m-%d\")\n",
    "                end_time = datetime(2023, i, 28).strftime(\"%Y-%m-%d\")\n",
    "                reading = row[f'ac_monthly{i}(kWh/Month)']\n",
    "\n",
    "                # Build the dictionary for the current month's meter reading. \n",
    "                # The format for payload must be as below.\n",
    "                meter_data = {\n",
    "                    \"start_time\": start_time,\n",
    "                    \"end_time\": end_time,\n",
    "                    \"reading\": float(reading) if reading else 0.0,  # Convert reading to float\n",
    "                    \"source_unit\": \"kBtu (Thousand BTU)\",\n",
    "                    \"conversion_factor\": 3.412\n",
    "                }\n",
    "                payload.append(meter_data)\n",
    "            \n",
    "            add = client.upsert_meter_readings_bulk(property_view_id,meter_id,payload)\n",
    "            print(add)\n",
    "\n",
    "\n"
   ]
  },
  {
   "cell_type": "code",
   "execution_count": null,
   "metadata": {},
   "outputs": [],
   "source": [
    "# Iterate over each row in the DataFrame to create meters\n",
    "# For easy access to ID\n",
    "id_list = {} #{'Seed_id':'PM_id'}\n",
    "for index, row in data.iterrows():\n",
    "    property_view_id = row[\"property_view_id\"]\n",
    "    property_id=row[\"PM Property ID\"]\n",
    "    id_list[property_view_id]=str(property_id)\n",
    "print(id_list)\n"
   ]
  },
  {
   "cell_type": "code",
   "execution_count": null,
   "metadata": {},
   "outputs": [],
   "source": [
    "for key,value in id_list.items():\n",
    "    meter_response = client.get_or_create_meter(\n",
    "            property_view_id=key,\n",
    "            meter_type=\"Electric - Solar\",\n",
    "            source=\"Manual Entry\",\n",
    "            source_id=value # Convert source_id to string\n",
    "        )\n",
    "    print(f\"Meter created for property ID {property_view_id}: {meter_response}\")"
   ]
  },
  {
   "cell_type": "code",
   "execution_count": null,
   "metadata": {},
   "outputs": [],
   "source": [
    "# Finding the first Meter ID and looping it to the total number of buildings. \n",
    "# (Meter ID in SEED if only one meter is assigned is increamental)\n",
    "for i in range(17396,17457):\n",
    "    print(i)    # Add the printed value to corresponding property column."
   ]
  }
 ],
 "metadata": {
  "kernelspec": {
   "display_name": ".venv",
   "language": "python",
   "name": "python3"
  },
  "language_info": {
   "codemirror_mode": {
    "name": "ipython",
    "version": 3
   },
   "file_extension": ".py",
   "mimetype": "text/x-python",
   "name": "python",
   "nbconvert_exporter": "python",
   "pygments_lexer": "ipython3",
   "version": "3.12.4"
  }
 },
 "nbformat": 4,
 "nbformat_minor": 2
}
